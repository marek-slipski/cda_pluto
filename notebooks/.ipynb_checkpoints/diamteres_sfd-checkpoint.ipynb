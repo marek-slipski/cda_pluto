{
 "cells": [
  {
   "cell_type": "code",
   "execution_count": 3,
   "metadata": {
    "collapsed": false
   },
   "outputs": [],
   "source": [
    "import pandas as pd\n",
    "import numpy as np\n",
    "import glob\n",
    "\n",
    "import matplotlib.pyplot as plt\n",
    "%matplotlib inline"
   ]
  },
  {
   "cell_type": "markdown",
   "metadata": {},
   "source": [
    "First, need to steal the hack that loops through all the shapes I save..."
   ]
  },
  {
   "cell_type": "code",
   "execution_count": 8,
   "metadata": {
    "collapsed": false
   },
   "outputs": [
    {
     "name": "stdout",
     "output_type": "stream",
     "text": [
      "['../slices/c50_output/4400_4600_10100_10300_c50', '../slices/c50_output/4400_4600_8900_9100_c50', '../slices/c50_output/4400_4600_9100_9300_c50', '../slices/c50_output/4400_4600_9300_9500_c50', '../slices/c50_output/4400_4600_9500_9700_c50']\n"
     ]
    }
   ],
   "source": [
    "slice_dirs =  sorted(glob.glob('../slices/c50_output/*'))\n",
    "print slice_dirs[0:5]"
   ]
  },
  {
   "cell_type": "code",
   "execution_count": 9,
   "metadata": {
    "collapsed": true
   },
   "outputs": [],
   "source": [
    "def centroid(z):\n",
    "    return np.sum(z)/len(z)"
   ]
  },
  {
   "cell_type": "code",
   "execution_count": null,
   "metadata": {
    "collapsed": true
   },
   "outputs": [],
   "source": [
    "#def get_all_mean_radii(folder):\n",
    "    #slice_dirs = sorted(glob.glob('folder/*'))\n",
    "    "
   ]
  },
  {
   "cell_type": "code",
   "execution_count": 94,
   "metadata": {
    "collapsed": false
   },
   "outputs": [],
   "source": [
    "basepix = [4400,6000,8900,10300]\n",
    "diams_50 = []\n",
    "for sld in slice_dirs:\n",
    "    fname = sld.split('/')[-1]\n",
    "    rp1,rp2,cp1,cp2,blur = fname.split('_')\n",
    "    #print rp1,rp2,cp1,cp2\n",
    "    shapes = glob.glob(sld+'/shapes/*_xypoints.npy')\n",
    "    for shfile in shapes:\n",
    "        x,y = np.load(shfile)\n",
    "        adjx = x+int(cp1)-basepix[2]\n",
    "        adjy = y+int(rp1)-basepix[0]\n",
    "        centx, centy = centroid(adjx),centroid(adjy)\n",
    "\n",
    "        dists = np.sqrt((adjx-centx)**2 + (adjy-centy)**2)\n",
    "        diams_50.append(np.mean(dists)*2)\n",
    "        \n",
    "diams_50 = np.array(diams_50)*.3 #convert pixels to km"
   ]
  },
  {
   "cell_type": "code",
   "execution_count": 95,
   "metadata": {
    "collapsed": false
   },
   "outputs": [],
   "source": [
    "diams_50_S = pd.Series(diams_50)"
   ]
  },
  {
   "cell_type": "code",
   "execution_count": 103,
   "metadata": {
    "collapsed": false
   },
   "outputs": [
    {
     "data": {
      "text/plain": [
       "<matplotlib.axes._subplots.AxesSubplot at 0x7fdb150cfa50>"
      ]
     },
     "execution_count": 103,
     "metadata": {},
     "output_type": "execute_result"
    },
    {
     "data": {
      "image/png": "[encoded data removed]",
      "text/plain": [
       "<matplotlib.figure.Figure at 0x7fdb15168250>"
      ]
     },
     "metadata": {},
     "output_type": "display_data"
    }
   ],
   "source": [
    "bins = np.arange(0,50,1)\n",
    "diams_50_c = pd.cut(diams_50_S,bins)\n",
    "diams_50_S.hist()"
   ]
  },
  {
   "cell_type": "code",
   "execution_count": 97,
   "metadata": {
    "collapsed": true
   },
   "outputs": [],
   "source": [
    "basepix = [4400,6000,8900,10300]\n",
    "diams_20 = []\n",
    "for sld in sorted(glob.glob('../slices/c20_output/*')):\n",
    "    fname = sld.split('/')[-1]\n",
    "    rp1,rp2,cp1,cp2,blur = fname.split('_')\n",
    "    #print rp1,rp2,cp1,cp2\n",
    "    shapes = glob.glob(sld+'/shapes/*_xypoints.npy')\n",
    "    for shfile in shapes:\n",
    "        x,y = np.load(shfile)\n",
    "        adjx = x+int(cp1)-basepix[2]\n",
    "        adjy = y+int(rp1)-basepix[0]\n",
    "        centx, centy = centroid(adjx),centroid(adjy)\n",
    "\n",
    "        dists = np.sqrt((adjx-centx)**2 + (adjy-centy)**2)\n",
    "        diams_20.append(np.mean(dists)*2)\n",
    "        \n",
    "diams_20 = np.array(diams_20)*.3 #convert pixels to km"
   ]
  },
  {
   "cell_type": "code",
   "execution_count": 98,
   "metadata": {
    "collapsed": false
   },
   "outputs": [
    {
     "data": {
      "text/plain": [
       "<matplotlib.axes._subplots.AxesSubplot at 0x7fdb15275e50>"
      ]
     },
     "execution_count": 98,
     "metadata": {},
     "output_type": "execute_result"
    },
    {
     "data": {
      "image/png": "[encoded data removed]",
      "text/plain": [
       "<matplotlib.figure.Figure at 0x7fdb14ff1690>"
      ]
     },
     "metadata": {},
     "output_type": "display_data"
    }
   ],
   "source": [
    "diams_20_S = pd.Series(diams_20)\n",
    "diams_20_S.hist()"
   ]
  },
  {
   "cell_type": "code",
   "execution_count": 99,
   "metadata": {
    "collapsed": false
   },
   "outputs": [
    {
     "data": {
      "text/plain": [
       "<matplotlib.axes._subplots.AxesSubplot at 0x7fdb1514e2d0>"
      ]
     },
     "execution_count": 99,
     "metadata": {},
     "output_type": "execute_result"
    },
    {
     "data": {
      "image/png": "[encoded data removed]",
      "text/plain": [
       "<matplotlib.figure.Figure at 0x7fdb15166410>"
      ]
     },
     "metadata": {},
     "output_type": "display_data"
    }
   ],
   "source": [
    "diams_20_S = pd.Series(diams_20)\n",
    "diams_20_S.hist()\n",
    "diams_50_S.hist()"
   ]
  },
  {
   "cell_type": "code",
   "execution_count": 100,
   "metadata": {
    "collapsed": true
   },
   "outputs": [],
   "source": [
    "basepix = [4400,6000,8900,10300]\n",
    "diams_10 = []\n",
    "for sld in sorted(glob.glob('../slices/c10_output/*')):\n",
    "    fname = sld.split('/')[-1]\n",
    "    rp1,rp2,cp1,cp2,blur = fname.split('_')\n",
    "    #print rp1,rp2,cp1,cp2\n",
    "    shapes = glob.glob(sld+'/shapes/*_xypoints.npy')\n",
    "    for shfile in shapes:\n",
    "        x,y = np.load(shfile)\n",
    "        adjx = x+int(cp1)-basepix[2]\n",
    "        adjy = y+int(rp1)-basepix[0]\n",
    "        centx, centy = centroid(adjx),centroid(adjy)\n",
    "\n",
    "        dists = np.sqrt((adjx-centx)**2 + (adjy-centy)**2)\n",
    "        diams_10.append(np.mean(dists)*2)\n",
    "        \n",
    "diams_10 = np.array(diams_10)*.3 #convert pixels to km"
   ]
  },
  {
   "cell_type": "code",
   "execution_count": 101,
   "metadata": {
    "collapsed": false
   },
   "outputs": [
    {
     "data": {
      "text/plain": [
       "<matplotlib.axes._subplots.AxesSubplot at 0x7fdb1519e9d0>"
      ]
     },
     "execution_count": 101,
     "metadata": {},
     "output_type": "execute_result"
    },
    {
     "data": {
      "image/png": "[encoded data removed]",
      "text/plain": [
       "<matplotlib.figure.Figure at 0x7fdb14e62fd0>"
      ]
     },
     "metadata": {},
     "output_type": "display_data"
    }
   ],
   "source": [
    "diams_10_S = pd.Series(diams_10)\n",
    "diams_10_S.hist()"
   ]
  },
  {
   "cell_type": "code",
   "execution_count": 142,
   "metadata": {
    "collapsed": false
   },
   "outputs": [
    {
     "data": {
      "text/plain": [
       "<matplotlib.axes._subplots.AxesSubplot at 0x7fdb14768c90>"
      ]
     },
     "execution_count": 142,
     "metadata": {},
     "output_type": "execute_result"
    },
    {
     "data": {
      "image/png": "[encoded data removed]",
      "text/plain": [
       "<matplotlib.figure.Figure at 0x7fdb1467d410>"
      ]
     },
     "metadata": {},
     "output_type": "display_data"
    }
   ],
   "source": [
    "diams_10_S = pd.Series(diams_10)\n",
    "diams_10_S.hist()\n",
    "diams_20_S.hist()\n",
    "diams_50_S.hist()"
   ]
  },
  {
   "cell_type": "code",
   "execution_count": 104,
   "metadata": {
    "collapsed": false
   },
   "outputs": [],
   "source": [
    "diams_S = pd.concat([diams_10_S,diams_20_S,diams_50_S])"
   ]
  },
  {
   "cell_type": "code",
   "execution_count": 105,
   "metadata": {
    "collapsed": false
   },
   "outputs": [],
   "source": [
    "diams_Sc = pd.cut(diams_S,bins)\n",
    "count_Sc = diams_S.groupby(diams_Sc).count()"
   ]
  },
  {
   "cell_type": "code",
   "execution_count": 106,
   "metadata": {
    "collapsed": false
   },
   "outputs": [],
   "source": [
    "medSc = diams_S.groupby(diams_Sc).mean()"
   ]
  },
  {
   "cell_type": "code",
   "execution_count": 107,
   "metadata": {
    "collapsed": false
   },
   "outputs": [],
   "source": [
    "newdf = pd.concat([count_Sc,medSc],axis=1,keys=['count','median'])"
   ]
  },
  {
   "cell_type": "code",
   "execution_count": 140,
   "metadata": {
    "collapsed": false
   },
   "outputs": [
    {
     "data": {
      "image/png": "[encoded data removed]",
      "text/plain": [
       "<matplotlib.figure.Figure at 0x7fdb14c3f890>"
      ]
     },
     "metadata": {},
     "output_type": "display_data"
    }
   ],
   "source": [
    "plt.figure()\n",
    "plt.scatter(newdf['median'],newdf['count']/(area))\n",
    "plt.yscale('log')\n",
    "plt.ylim(1.e-6,1.e-3)\n",
    "plt.xlim(1.,5.e+1)\n",
    "plt.xscale('log')\n",
    "plt.show()"
   ]
  },
  {
   "cell_type": "code",
   "execution_count": 139,
   "metadata": {
    "collapsed": false
   },
   "outputs": [
    {
     "data": {
      "text/plain": [
       "503052.12011862954"
      ]
     },
     "execution_count": 139,
     "metadata": {},
     "output_type": "execute_result"
    }
   ],
   "source": [
    "pixelsq = 1400*1600\n",
    "area = pixelsq*newsc\n",
    "area"
   ]
  },
  {
   "cell_type": "code",
   "execution_count": 138,
   "metadata": {
    "collapsed": false
   },
   "outputs": [
    {
     "name": "stdout",
     "output_type": "stream",
     "text": [
      "32.1407907425 1841.53165976\n",
      "889.54886062\n",
      "0.224576839339\n"
     ]
    }
   ],
   "source": [
    "Req = 1188300.0/1000.\n",
    "lat = (1-(4000./(12444/2.)))*90\n",
    "print lat,lat*180/np.pi\n",
    "a = Req* np.cos(lat)\n",
    "print a\n",
    "newsc = a/Req/1000.*300\n",
    "print newsc\n"
   ]
  },
  {
   "cell_type": "code",
   "execution_count": null,
   "metadata": {
    "collapsed": true
   },
   "outputs": [],
   "source": []
  }
 ],
 "metadata": {
  "kernelspec": {
   "display_name": "Python 2",
   "language": "python",
   "name": "python2"
  },
  "language_info": {
   "codemirror_mode": {
    "name": "ipython",
    "version": 2
   },
   "file_extension": ".py",
   "mimetype": "text/x-python",
   "name": "python",
   "nbconvert_exporter": "python",
   "pygments_lexer": "ipython2",
   "version": "2.7.12"
  }
 },
 "nbformat": 4,
 "nbformat_minor": 0
}

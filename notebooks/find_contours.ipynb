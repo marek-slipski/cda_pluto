{
 "cells": [
  {
   "cell_type": "code",
   "execution_count": 1,
   "metadata": {
    "collapsed": true
   },
   "outputs": [],
   "source": [
    "import numpy as np\n",
    "import cv2\n",
    "\n",
    "import matplotlib.pyplot as plt\n",
    "%matplotlib inline"
   ]
  },
  {
   "cell_type": "code",
   "execution_count": 2,
   "metadata": {
    "collapsed": true
   },
   "outputs": [],
   "source": [
    "deps = np.load('../img0_20/img0_c20_blur20_deps.npy')"
   ]
  },
  {
   "cell_type": "code",
   "execution_count": 92,
   "metadata": {
    "collapsed": false
   },
   "outputs": [
    {
     "data": {
      "image/png": "[encoded data removed]",
      "text/plain": [
       "<matplotlib.figure.Figure at 0x7f3281709dd0>"
      ]
     },
     "metadata": {},
     "output_type": "display_data"
    }
   ],
   "source": [
    "plt.figure()\n",
    "plt.imshow(deps)\n",
    "plt.plot([28],[158],'ko')\n",
    "plt.show()"
   ]
  },
  {
   "cell_type": "code",
   "execution_count": 4,
   "metadata": {
    "collapsed": false
   },
   "outputs": [
    {
     "data": {
      "text/plain": [
       "array([[ 0.,  0.,  0., ...,  0.,  0.,  0.],\n",
       "       [ 0.,  0.,  0., ...,  0.,  0.,  0.],\n",
       "       [ 0.,  0.,  0., ...,  0.,  0.,  0.],\n",
       "       ..., \n",
       "       [ 0.,  0.,  0., ...,  0.,  0.,  0.],\n",
       "       [ 0.,  0.,  0., ...,  0.,  0.,  0.],\n",
       "       [ 0.,  0.,  0., ...,  0.,  0.,  0.]])"
      ]
     },
     "execution_count": 4,
     "metadata": {},
     "output_type": "execute_result"
    }
   ],
   "source": [
    "deps[140:175,10:50]"
   ]
  },
  {
   "cell_type": "code",
   "execution_count": 5,
   "metadata": {
    "collapsed": false
   },
   "outputs": [
    {
     "name": "stdout",
     "output_type": "stream",
     "text": [
      "16 987\n",
      "18 996\n",
      "1983\n"
     ]
    }
   ],
   "source": [
    "rows,cols = np.where(deps[140:175,10:50]==True)\n",
    "print np.sum(rows)/np.count_nonzero(rows),np.count_nonzero(rows)\n",
    "print np.sum(cols)/np.count_nonzero(cols),np.count_nonzero(cols)\n",
    "print np.count_nonzero(rows)+np.count_nonzero(cols)"
   ]
  },
  {
   "cell_type": "code",
   "execution_count": 6,
   "metadata": {
    "collapsed": false
   },
   "outputs": [],
   "source": [
    "#deps_cv2 = deps.view('uint8')#cv2.cvtColor(deps*255, cv2.COLOR_GRAY2BGR)#cv2.imread('../img0_20/img0_c20_blur20_deps.png',0)\n",
    "im2,contours,hier = cv2.findContours(deps.astype('uint8'), cv2.RETR_EXTERNAL, cv2.CHAIN_APPROX_SIMPLE)"
   ]
  },
  {
   "cell_type": "code",
   "execution_count": 9,
   "metadata": {
    "collapsed": false
   },
   "outputs": [
    {
     "data": {
      "text/plain": [
       "(200, 200)"
      ]
     },
     "execution_count": 9,
     "metadata": {},
     "output_type": "execute_result"
    }
   ],
   "source": [
    "im2.shape"
   ]
  },
  {
   "cell_type": "code",
   "execution_count": 10,
   "metadata": {
    "collapsed": false,
    "scrolled": true
   },
   "outputs": [
    {
     "name": "stdout",
     "output_type": "stream",
     "text": [
      "(4, 1, 2)\n",
      "27.0\n",
      "22 198\n",
      "\n",
      "\n",
      "(36, 1, 2)\n",
      "442.5\n",
      "151 191\n",
      "\n",
      "\n",
      "(23, 1, 2)\n",
      "190.0\n",
      "194 163\n",
      "\n",
      "\n",
      "(82, 1, 2)\n",
      "1105.0\n",
      "87 165\n",
      "\n",
      "\n",
      "(29, 1, 2)\n",
      "1067.5\n",
      "28 154\n",
      "\n",
      "\n",
      "(5, 1, 2)\n",
      "12.5\n",
      "198 86\n",
      "\n",
      "\n",
      "(26, 1, 2)\n",
      "1629.0\n",
      "141 100\n",
      "\n",
      "\n",
      "(28, 1, 2)\n",
      "299.0\n",
      "2 80\n",
      "\n",
      "\n",
      "(28, 1, 2)\n",
      "1563.5\n",
      "74 58\n",
      "\n",
      "\n",
      "(73, 1, 2)\n",
      "1812.0\n",
      "172 20\n",
      "\n",
      "\n",
      "(4, 1, 2)\n",
      "23.5\n",
      "137 0\n",
      "\n",
      "\n",
      "(12, 1, 2)\n",
      "8.0\n",
      "76 0\n",
      "\n",
      "\n",
      "(15, 1, 2)\n",
      "121.0\n",
      "6 4\n",
      "\n",
      "\n"
     ]
    }
   ],
   "source": [
    "#plt.figure()\n",
    "for sh in contours:\n",
    "    print sh.shape\n",
    "    print cv2.contourArea(sh)\n",
    "    M = cv2.moments(sh)\n",
    "    print int(M['m10']/M['m00']),int(M['m01']/M['m00'])\n",
    "    print '\\n'"
   ]
  },
  {
   "cell_type": "code",
   "execution_count": null,
   "metadata": {
    "collapsed": false,
    "scrolled": true
   },
   "outputs": [],
   "source": [
    "print contours[4]"
   ]
  },
  {
   "cell_type": "code",
   "execution_count": null,
   "metadata": {
    "collapsed": false
   },
   "outputs": [],
   "source": [
    "#cv2.contourArea()\n",
    "cv2."
   ]
  },
  {
   "cell_type": "code",
   "execution_count": 70,
   "metadata": {
    "collapsed": false
   },
   "outputs": [
    {
     "data": {
      "image/png": "[encoded data removed]",
      "text/plain": [
       "<matplotlib.figure.Figure at 0x7f328168ec10>"
      ]
     },
     "metadata": {},
     "output_type": "display_data"
    }
   ],
   "source": [
    "plt.figure()\n",
    "plt.imshow(cv2.drawContours(im2,contours,4,100,thickness=3),cmap='Greys')\n",
    "plt.show()"
   ]
  },
  {
   "cell_type": "code",
   "execution_count": null,
   "metadata": {
    "collapsed": true
   },
   "outputs": [],
   "source": [
    "#next, use points within to do fourier expansion\n",
    "#still, how to get points within..."
   ]
  },
  {
   "cell_type": "code",
   "execution_count": 22,
   "metadata": {
    "collapsed": false
   },
   "outputs": [],
   "source": [
    "rows,cols = np.where(deps[140:175,10:50]==True)\n",
    "rows += 140\n",
    "cols += 10"
   ]
  },
  {
   "cell_type": "code",
   "execution_count": 23,
   "metadata": {
    "collapsed": false
   },
   "outputs": [],
   "source": [
    "len(rows),len(cols)\n",
    "a= np.where(rows==154) \n",
    "b = np.where((cols==28))\n"
   ]
  },
  {
   "cell_type": "code",
   "execution_count": 24,
   "metadata": {
    "collapsed": true
   },
   "outputs": [],
   "source": [
    "r0 = np.sqrt(len(rows))"
   ]
  },
  {
   "cell_type": "code",
   "execution_count": 25,
   "metadata": {
    "collapsed": false
   },
   "outputs": [
    {
     "data": {
      "text/plain": [
       "31.749015732775089"
      ]
     },
     "execution_count": 25,
     "metadata": {},
     "output_type": "execute_result"
    }
   ],
   "source": [
    "r0"
   ]
  },
  {
   "cell_type": "code",
   "execution_count": 26,
   "metadata": {
    "collapsed": false
   },
   "outputs": [
    {
     "name": "stdout",
     "output_type": "stream",
     "text": [
      "28 154\n"
     ]
    }
   ],
   "source": [
    "ts = contours[4]\n",
    "ts_m = cv2.moments(ts)\n",
    "ts_cx = int(ts_m['m10']/ts_m['m00'])\n",
    "ts_cy = int(ts_m['m01']/ts_m['m00'])\n",
    "print ts_cx, ts_cy"
   ]
  },
  {
   "cell_type": "code",
   "execution_count": 53,
   "metadata": {
    "collapsed": false
   },
   "outputs": [],
   "source": [
    "thetas = np.zeros(len(rows))\n",
    "for i,coord in enumerate(rows):\n",
    "    point = (cols[i],coord)#.flatten()\n",
    "    px = point[0]\n",
    "    py = point[1]\n",
    "    if (px == ts_cx) and (py == ts_cy):\n",
    "        to_rem = i\n",
    "        continue\n",
    "    elif px != ts_cx:\n",
    "        theta =  np.arctan(float((py-ts_cy))/(px-ts_cx))\n",
    "    else:\n",
    "        if py - ts_cy > 0:\n",
    "            theta = np.pi/2\n",
    "        elif py - ts_cy < 0:\n",
    "            theta = -np.pi/2\n",
    "    if (px == ts_cx) and (py == ts_cy):\n",
    "            print 'here'\n",
    "    thetas[i] = theta\n",
    "thetas = np.delete(thetas,to_rem)"
   ]
  },
  {
   "cell_type": "code",
   "execution_count": 55,
   "metadata": {
    "collapsed": true
   },
   "outputs": [],
   "source": [
    "def a_n(n,angles):\n",
    "    n = float(n)\n",
    "    return np.sum(np.sin(n*angles))/len(angles)\n",
    "\n",
    "def b_n(n,angles):\n",
    "    n = float(n)\n",
    "    return np.sum(np.cos(n*angles))/len(angles)"
   ]
  },
  {
   "cell_type": "code",
   "execution_count": 56,
   "metadata": {
    "collapsed": false
   },
   "outputs": [
    {
     "name": "stdout",
     "output_type": "stream",
     "text": [
      "-0.0795062771403\n",
      "0.0120830587649\n",
      "0.0804192042601\n",
      "-0.06851680666\n",
      "-0.230805168581\n",
      "0.240760417508\n"
     ]
    }
   ],
   "source": [
    "a2 = a_n(2,thetas)\n",
    "print a2\n",
    "b2 = b_n(2,thetas)\n",
    "print b2\n",
    "S2 = np.sqrt(a2**2+b2**2)\n",
    "print S2\n",
    "a3 = a_n(3,thetas)\n",
    "print a3\n",
    "b3 = b_n(3,thetas)\n",
    "print b3\n",
    "S3 = np.sqrt(a3**2+b3**2)\n",
    "print S3"
   ]
  },
  {
   "cell_type": "code",
   "execution_count": 81,
   "metadata": {
    "collapsed": false
   },
   "outputs": [
    {
     "name": "stdout",
     "output_type": "stream",
     "text": [
      "0.0 1.0\n",
      "-0.051151490513 0.645525515862\n"
     ]
    }
   ],
   "source": [
    "print a_n(0,thetas),b_n(0,thetas)\n",
    "a1 =  a_n(1,thetas)\n",
    "b1 = b_n(1,thetas)\n",
    "print a1, b1"
   ]
  },
  {
   "cell_type": "code",
   "execution_count": 58,
   "metadata": {
    "collapsed": false
   },
   "outputs": [
    {
     "data": {
      "text/plain": [
       "array([ 70.34617594,  74.0546041 ,  77.90524292, ...,  74.475889  ,\n",
       "        71.56505118,  68.74949449])"
      ]
     },
     "execution_count": 58,
     "metadata": {},
     "output_type": "execute_result"
    }
   ],
   "source": [
    "thetas*180/np.pi"
   ]
  },
  {
   "cell_type": "code",
   "execution_count": 59,
   "metadata": {
    "collapsed": false
   },
   "outputs": [
    {
     "name": "stdout",
     "output_type": "stream",
     "text": [
      "[ 37 131  36 132  34 132  33 133  32 133  30 135  29 135  26 138  25 138]\n",
      "[ 11 152  11 153  10 154]\n",
      "[ 10 165  17 172  35 172  36 171  39 171]\n",
      "[ 43 167  43 166  44 165]\n"
     ]
    }
   ],
   "source": [
    "print ts[0:9].flatten()\n",
    "print ts[9:12].flatten()\n",
    "print ts[12:17].flatten()\n",
    "print ts[17:20].flatten()"
   ]
  },
  {
   "cell_type": "code",
   "execution_count": 60,
   "metadata": {
    "collapsed": false
   },
   "outputs": [
    {
     "name": "stdout",
     "output_type": "stream",
     "text": [
      "28 154\n"
     ]
    }
   ],
   "source": [
    "print ts_cx,ts_cy"
   ]
  },
  {
   "cell_type": "code",
   "execution_count": 67,
   "metadata": {
    "collapsed": true
   },
   "outputs": [],
   "source": [
    "def boundary_theta(angle,r0,a_n,b_n):\n",
    "    temp = 0\n",
    "    for n,a_val in enumerate(a_n):\n",
    "        temp += a_val*np.sin((n+1)*angle) + b_n[n]*np.cos((n+1)*angle)\n",
    "    return r0*(1 + temp)"
   ]
  },
  {
   "cell_type": "code",
   "execution_count": 88,
   "metadata": {
    "collapsed": false
   },
   "outputs": [],
   "source": [
    "alist = [0,a2,a3]\n",
    "blist = [0,b2,b3]"
   ]
  },
  {
   "cell_type": "code",
   "execution_count": 89,
   "metadata": {
    "collapsed": false
   },
   "outputs": [],
   "source": [
    "pts = np.linspace(0,360,1000)*np.pi/180\n",
    "r_vals = []\n",
    "for ts in pts:\n",
    "    r_val = boundary_theta(ts,r0,alist,blist)\n",
    "    r_vals.append(r_val)"
   ]
  },
  {
   "cell_type": "code",
   "execution_count": 90,
   "metadata": {
    "collapsed": false
   },
   "outputs": [
    {
     "data": {
      "image/png": "[encoded data removed]",
      "text/plain": [
       "<matplotlib.figure.Figure at 0x7f32815bb410>"
      ]
     },
     "metadata": {},
     "output_type": "display_data"
    }
   ],
   "source": [
    "plt.subplot(projection='polar')\n",
    "plt.plot(pts,r_vals)\n",
    "plt.show()"
   ]
  },
  {
   "cell_type": "code",
   "execution_count": null,
   "metadata": {
    "collapsed": true
   },
   "outputs": [],
   "source": []
  }
 ],
 "metadata": {
  "kernelspec": {
   "display_name": "Python 2",
   "language": "python",
   "name": "python2"
  },
  "language_info": {
   "codemirror_mode": {
    "name": "ipython",
    "version": 2
   },
   "file_extension": ".py",
   "mimetype": "text/x-python",
   "name": "python",
   "nbconvert_exporter": "python",
   "pygments_lexer": "ipython2",
   "version": "2.7.12"
  }
 },
 "nbformat": 4,
 "nbformat_minor": 0
}

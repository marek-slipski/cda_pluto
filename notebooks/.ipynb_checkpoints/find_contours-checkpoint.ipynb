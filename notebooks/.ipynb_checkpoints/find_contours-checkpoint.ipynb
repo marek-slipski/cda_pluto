{
 "cells": [
  {
   "cell_type": "code",
   "execution_count": 1,
   "metadata": {
    "collapsed": true
   },
   "outputs": [],
   "source": [
    "import numpy as np\n",
    "import cv2\n",
    "\n",
    "import matplotlib.pyplot as plt\n",
    "%matplotlib inline"
   ]
  },
  {
   "cell_type": "code",
   "execution_count": 2,
   "metadata": {
    "collapsed": true
   },
   "outputs": [],
   "source": [
    "deps = np.load('../img0_20/img0_c20_blur20_deps.npy')"
   ]
  },
  {
   "cell_type": "code",
   "execution_count": 3,
   "metadata": {
    "collapsed": false
   },
   "outputs": [
    {
     "data": {
      "image/png": "[encoded data removed]",
      "text/plain": [
       "<matplotlib.figure.Figure at 0x7f9c44097350>"
      ]
     },
     "metadata": {},
     "output_type": "display_data"
    }
   ],
   "source": [
    "plt.figure()\n",
    "plt.imshow(deps)\n",
    "plt.show()"
   ]
  },
  {
   "cell_type": "code",
   "execution_count": 4,
   "metadata": {
    "collapsed": false
   },
   "outputs": [
    {
     "data": {
      "text/plain": [
       "array([[ 0.,  0.,  0., ...,  0.,  0.,  0.],\n",
       "       [ 0.,  0.,  0., ...,  0.,  0.,  0.],\n",
       "       [ 0.,  0.,  0., ...,  0.,  0.,  0.],\n",
       "       ..., \n",
       "       [ 0.,  0.,  0., ...,  0.,  0.,  0.],\n",
       "       [ 0.,  0.,  0., ...,  0.,  0.,  0.],\n",
       "       [ 0.,  0.,  0., ...,  0.,  0.,  0.]])"
      ]
     },
     "execution_count": 4,
     "metadata": {},
     "output_type": "execute_result"
    }
   ],
   "source": [
    "deps[140:175,10:50]"
   ]
  },
  {
   "cell_type": "code",
   "execution_count": 5,
   "metadata": {
    "collapsed": false
   },
   "outputs": [
    {
     "name": "stdout",
     "output_type": "stream",
     "text": [
      "16 987\n",
      "18 996\n",
      "1983\n"
     ]
    }
   ],
   "source": [
    "rows,cols = np.where(deps[140:175,10:50]==True)\n",
    "print np.sum(rows)/np.count_nonzero(rows),np.count_nonzero(rows)\n",
    "print np.sum(cols)/np.count_nonzero(cols),np.count_nonzero(cols)\n",
    "print np.count_nonzero(rows)+np.count_nonzero(cols)"
   ]
  },
  {
   "cell_type": "code",
   "execution_count": 6,
   "metadata": {
    "collapsed": false
   },
   "outputs": [],
   "source": [
    "#deps_cv2 = deps.view('uint8')#cv2.cvtColor(deps*255, cv2.COLOR_GRAY2BGR)#cv2.imread('../img0_20/img0_c20_blur20_deps.png',0)\n",
    "im2,contours,hier = cv2.findContours(deps.astype('uint8'), cv2.RETR_EXTERNAL, cv2.CHAIN_APPROX_SIMPLE)"
   ]
  },
  {
   "cell_type": "code",
   "execution_count": 7,
   "metadata": {
    "collapsed": false
   },
   "outputs": [
    {
     "ename": "TypeError",
     "evalue": "Scalar value for argument 'color' is not numeric",
     "output_type": "error",
     "traceback": [
      "\u001b[1;31m---------------------------------------------------------------------------\u001b[0m",
      "\u001b[1;31mTypeError\u001b[0m                                 Traceback (most recent call last)",
      "\u001b[1;32m<ipython-input-7-5df0670220bd>\u001b[0m in \u001b[0;36m<module>\u001b[1;34m()\u001b[0m\n\u001b[0;32m      1\u001b[0m \u001b[0mplt\u001b[0m\u001b[1;33m.\u001b[0m\u001b[0mfigure\u001b[0m\u001b[1;33m(\u001b[0m\u001b[1;33m)\u001b[0m\u001b[1;33m\u001b[0m\u001b[0m\n\u001b[0;32m      2\u001b[0m \u001b[0mplt\u001b[0m\u001b[1;33m.\u001b[0m\u001b[0mimshow\u001b[0m\u001b[1;33m(\u001b[0m\u001b[0mim2\u001b[0m\u001b[1;33m)\u001b[0m\u001b[1;33m\u001b[0m\u001b[0m\n\u001b[1;32m----> 3\u001b[1;33m \u001b[0mcv2\u001b[0m\u001b[1;33m.\u001b[0m\u001b[0mdrawContours\u001b[0m\u001b[1;33m(\u001b[0m\u001b[0mim2\u001b[0m\u001b[1;33m,\u001b[0m\u001b[0mcontours\u001b[0m\u001b[1;33m,\u001b[0m\u001b[1;33m-\u001b[0m\u001b[1;36m1\u001b[0m\u001b[1;33m,\u001b[0m\u001b[0mcolor\u001b[0m\u001b[1;33m=\u001b[0m\u001b[1;34m'k'\u001b[0m\u001b[1;33m,\u001b[0m\u001b[0mthickness\u001b[0m\u001b[1;33m=\u001b[0m\u001b[1;36m4\u001b[0m\u001b[1;33m)\u001b[0m\u001b[1;33m\u001b[0m\u001b[0m\n\u001b[0m\u001b[0;32m      4\u001b[0m \u001b[0mplt\u001b[0m\u001b[1;33m.\u001b[0m\u001b[0mshow\u001b[0m\u001b[1;33m(\u001b[0m\u001b[1;33m)\u001b[0m\u001b[1;33m\u001b[0m\u001b[0m\n",
      "\u001b[1;31mTypeError\u001b[0m: Scalar value for argument 'color' is not numeric"
     ]
    },
    {
     "data": {
      "image/png": "[encoded data removed]",
      "text/plain": [
       "<matplotlib.figure.Figure at 0x7f9c41f60990>"
      ]
     },
     "metadata": {},
     "output_type": "display_data"
    }
   ],
   "source": [
    "plt.figure()\n",
    "plt.imshow(im2)\n",
    "cv2.drawContours(im2,contours,-1,color='k',thickness=4)\n",
    "plt.show()"
   ]
  },
  {
   "cell_type": "code",
   "execution_count": null,
   "metadata": {
    "collapsed": false
   },
   "outputs": [],
   "source": [
    "im2.shape"
   ]
  },
  {
   "cell_type": "code",
   "execution_count": null,
   "metadata": {
    "collapsed": false
   },
   "outputs": [],
   "source": [
    "#plt.figure()\n",
    "for sh in contours:\n",
    "    print sh.shape\n",
    "    print cv2.contourArea(sh)\n",
    "    M = cv2.moments(sh)\n",
    "    print int(M['m10']/M['m00']),int(M['m01']/M['m00'])\n",
    "    print '\\n'"
   ]
  },
  {
   "cell_type": "code",
   "execution_count": null,
   "metadata": {
    "collapsed": false,
    "scrolled": true
   },
   "outputs": [],
   "source": [
    "print contours[4]"
   ]
  },
  {
   "cell_type": "code",
   "execution_count": null,
   "metadata": {
    "collapsed": false
   },
   "outputs": [],
   "source": [
    "#cv2.contourArea()\n",
    "cv2."
   ]
  },
  {
   "cell_type": "code",
   "execution_count": 62,
   "metadata": {
    "collapsed": false
   },
   "outputs": [
    {
     "data": {
      "image/png": "[encoded data removed]",
      "text/plain": [
       "<matplotlib.figure.Figure at 0x7f9c41ee8390>"
      ]
     },
     "metadata": {},
     "output_type": "display_data"
    }
   ],
   "source": [
    "plt.figure()\n",
    "plt.imshow(cv2.drawContours(im2,contours,4,100,thickness=3),cmap='Greys')\n",
    "plt.show()"
   ]
  },
  {
   "cell_type": "code",
   "execution_count": null,
   "metadata": {
    "collapsed": true
   },
   "outputs": [],
   "source": [
    "#next, use points within to do fourier expansion\n",
    "#still, how to get points within..."
   ]
  },
  {
   "cell_type": "code",
   "execution_count": 98,
   "metadata": {
    "collapsed": false
   },
   "outputs": [],
   "source": [
    "rows,cols = np.where(deps[140:175,10:50]==True)\n",
    "rows += 140\n",
    "cols += 10"
   ]
  },
  {
   "cell_type": "code",
   "execution_count": 119,
   "metadata": {
    "collapsed": false
   },
   "outputs": [
    {
     "data": {
      "text/plain": [
       "(array([   5,   27,   50,   75,  101,  128,  156,  185,  215,  246,  278,\n",
       "         311,  345,  379,  414,  449,  484,  519,  554,  589,  624,  659,\n",
       "         694,  729,  764,  799,  833,  865,  896,  925,  952,  977, 1000]),)"
      ]
     },
     "execution_count": 119,
     "metadata": {},
     "output_type": "execute_result"
    }
   ],
   "source": [
    "len(rows),len(cols)\n",
    "a= np.where(rows==154) \n",
    "b = np.where((cols==28))\n"
   ]
  },
  {
   "cell_type": "code",
   "execution_count": 19,
   "metadata": {
    "collapsed": true
   },
   "outputs": [],
   "source": [
    "r0 = np.sqrt(len(rows))"
   ]
  },
  {
   "cell_type": "code",
   "execution_count": 20,
   "metadata": {
    "collapsed": false
   },
   "outputs": [
    {
     "data": {
      "text/plain": [
       "31.749015732775089"
      ]
     },
     "execution_count": 20,
     "metadata": {},
     "output_type": "execute_result"
    }
   ],
   "source": [
    "r0"
   ]
  },
  {
   "cell_type": "code",
   "execution_count": 102,
   "metadata": {
    "collapsed": false
   },
   "outputs": [
    {
     "name": "stdout",
     "output_type": "stream",
     "text": [
      "28 154\n"
     ]
    }
   ],
   "source": [
    "ts = contours[4]\n",
    "ts_m = cv2.moments(ts)\n",
    "ts_cx = int(ts_m['m10']/ts_m['m00'])\n",
    "ts_cy = int(ts_m['m01']/ts_m['m00'])\n",
    "print ts_cx, ts_cy"
   ]
  },
  {
   "cell_type": "code",
   "execution_count": 130,
   "metadata": {
    "collapsed": false
   },
   "outputs": [
    {
     "ename": "IndexError",
     "evalue": "index 1007 is out of bounds for axis 0 with size 1007",
     "output_type": "error",
     "traceback": [
      "\u001b[1;31m---------------------------------------------------------------------------\u001b[0m",
      "\u001b[1;31mIndexError\u001b[0m                                Traceback (most recent call last)",
      "\u001b[1;32m<ipython-input-130-a67fb2c78a36>\u001b[0m in \u001b[0;36m<module>\u001b[1;34m()\u001b[0m\n\u001b[0;32m     13\u001b[0m         \u001b[1;32melif\u001b[0m \u001b[0mpy\u001b[0m \u001b[1;33m-\u001b[0m \u001b[0mts_cy\u001b[0m \u001b[1;33m<\u001b[0m \u001b[1;36m0\u001b[0m\u001b[1;33m:\u001b[0m\u001b[1;33m\u001b[0m\u001b[0m\n\u001b[0;32m     14\u001b[0m             \u001b[0mtheta\u001b[0m \u001b[1;33m=\u001b[0m \u001b[1;33m-\u001b[0m\u001b[0mnp\u001b[0m\u001b[1;33m.\u001b[0m\u001b[0mpi\u001b[0m\u001b[1;33m/\u001b[0m\u001b[1;36m2\u001b[0m\u001b[1;33m\u001b[0m\u001b[0m\n\u001b[1;32m---> 15\u001b[1;33m     \u001b[0mthetas\u001b[0m\u001b[1;33m[\u001b[0m\u001b[0mi\u001b[0m\u001b[1;33m]\u001b[0m \u001b[1;33m=\u001b[0m \u001b[0mtheta\u001b[0m\u001b[1;33m\u001b[0m\u001b[0m\n\u001b[0m\u001b[0;32m     16\u001b[0m \u001b[1;33m\u001b[0m\u001b[0m\n",
      "\u001b[1;31mIndexError\u001b[0m: index 1007 is out of bounds for axis 0 with size 1007"
     ]
    }
   ],
   "source": [
    "thetas = np.zeros(len(rows)-1)\n",
    "for i,coord in enumerate(rows):\n",
    "    point = (cols[i],coord)#.flatten()\n",
    "    px = point[0]\n",
    "    py = point[1]\n",
    "    if (px == ts_cx) and (py == ts_cy):\n",
    "        continue\n",
    "    elif px != ts_cx:\n",
    "        theta =  np.arctan(float((py-ts_cy))/(px-ts_cx))\n",
    "    else:\n",
    "        if py - ts_cy > 0:\n",
    "            theta = np.pi/2\n",
    "        elif py - ts_cy < 0:\n",
    "            theta = -np.pi/2\n",
    "    thetas[i] = theta\n",
    "    "
   ]
  },
  {
   "cell_type": "code",
   "execution_count": 82,
   "metadata": {
    "collapsed": true
   },
   "outputs": [],
   "source": [
    "def a_n(n,angles):\n",
    "    n = float(n)\n",
    "    return np.sum(np.sin(n*angles))/len(angles)\n",
    "\n",
    "def b_n(n,angles):\n",
    "    n = float(n)\n",
    "    return np.sum(np.cos(n*angles))/len(angles)"
   ]
  },
  {
   "cell_type": "code",
   "execution_count": 83,
   "metadata": {
    "collapsed": false
   },
   "outputs": [
    {
     "name": "stdout",
     "output_type": "stream",
     "text": [
      "-0.237206440807\n",
      "-0.28460199927\n",
      "0.370493176116\n",
      "0.060566291414\n",
      "-0.506817238308\n",
      "0.51042334263\n"
     ]
    }
   ],
   "source": [
    "a2 = a_n(2,thetas)\n",
    "print a2\n",
    "b2 = b_n(2,thetas)\n",
    "print b2\n",
    "S2 = np.sqrt(a2**2+b2**2)\n",
    "print S2\n",
    "a3 = a_n(3,thetas)\n",
    "print a3\n",
    "b3 = b_n(3,thetas)\n",
    "print b3\n",
    "S3 = np.sqrt(a3**2+b3**2)\n",
    "print S3"
   ]
  },
  {
   "cell_type": "code",
   "execution_count": 84,
   "metadata": {
    "collapsed": false
   },
   "outputs": [
    {
     "name": "stdout",
     "output_type": "stream",
     "text": [
      "0.0 1.0\n",
      "-0.293109712261 0.530796833027\n"
     ]
    }
   ],
   "source": [
    "print a_n(0,thetas),b_n(0,thetas)\n",
    "print a_n(1,thetas),b_n(1,thetas)"
   ]
  },
  {
   "cell_type": "code",
   "execution_count": 85,
   "metadata": {
    "collapsed": false
   },
   "outputs": [
    {
     "data": {
      "text/plain": [
       "array([-68.62937773, -70.01689348, -74.7448813 , -76.60750225,\n",
       "       -79.21570213, -83.99099404, -86.9872125 ,  82.87498365,\n",
       "        79.38034472,   6.70983681,   3.36646066,  -0.        ,\n",
       "       -31.42956561, -58.57043439,  68.74949449,  64.79887635,\n",
       "        57.09475708,  40.91438322,  38.65980825,  34.50852299,\n",
       "       -36.86989765, -40.91438322, -46.84761027, -50.52754015,\n",
       "       -53.61564818, -56.97613244, -58.24051992, -61.38954033, -62.44718842])"
      ]
     },
     "execution_count": 85,
     "metadata": {},
     "output_type": "execute_result"
    }
   ],
   "source": [
    "thetas*180/np.pi"
   ]
  },
  {
   "cell_type": "code",
   "execution_count": 86,
   "metadata": {
    "collapsed": false
   },
   "outputs": [
    {
     "name": "stdout",
     "output_type": "stream",
     "text": [
      "[ 37 131  36 132  34 132  33 133  32 133  30 135  29 135  26 138  25 138]\n",
      "[ 11 152  11 153  10 154]\n",
      "[ 10 165  17 172  35 172  36 171  39 171]\n",
      "[ 43 167  43 166  44 165]\n"
     ]
    }
   ],
   "source": [
    "print ts[0:9].flatten()\n",
    "print ts[9:12].flatten()\n",
    "print ts[12:17].flatten()\n",
    "print ts[17:20].flatten()"
   ]
  },
  {
   "cell_type": "code",
   "execution_count": 75,
   "metadata": {
    "collapsed": false
   },
   "outputs": [
    {
     "name": "stdout",
     "output_type": "stream",
     "text": [
      "28 154\n"
     ]
    }
   ],
   "source": [
    "print ts_cx,ts_cy"
   ]
  },
  {
   "cell_type": "code",
   "execution_count": null,
   "metadata": {
    "collapsed": true
   },
   "outputs": [],
   "source": []
  }
 ],
 "metadata": {
  "kernelspec": {
   "display_name": "Python 2",
   "language": "python",
   "name": "python2"
  },
  "language_info": {
   "codemirror_mode": {
    "name": "ipython",
    "version": 2
   },
   "file_extension": ".py",
   "mimetype": "text/x-python",
   "name": "python",
   "nbconvert_exporter": "python",
   "pygments_lexer": "ipython2",
   "version": "2.7.12"
  }
 },
 "nbformat": 4,
 "nbformat_minor": 0
}

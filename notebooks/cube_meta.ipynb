{
 "cells": [
  {
   "cell_type": "code",
   "execution_count": 3,
   "metadata": {
    "collapsed": false
   },
   "outputs": [],
   "source": [
    "from planetaryimage import CubeFile"
   ]
  },
  {
   "cell_type": "code",
   "execution_count": 4,
   "metadata": {
    "collapsed": true
   },
   "outputs": [],
   "source": [
    "cube_file = '../Pluto_NewHorizons_Global_DEM_300m_Jul2017_32bit.cub'"
   ]
  },
  {
   "cell_type": "code",
   "execution_count": 5,
   "metadata": {
    "collapsed": true
   },
   "outputs": [],
   "source": [
    "cub = CubeFile.open(cube_file)"
   ]
  },
  {
   "cell_type": "code",
   "execution_count": 11,
   "metadata": {
    "collapsed": false
   },
   "outputs": [
    {
     "name": "stdout",
     "output_type": "stream",
     "text": [
      "<class 'planetaryimage.cubefile.CubeFile'>\n"
     ]
    }
   ],
   "source": [
    "print type(cub)"
   ]
  },
  {
   "cell_type": "code",
   "execution_count": 24,
   "metadata": {
    "collapsed": false
   },
   "outputs": [
    {
     "name": "stdout",
     "output_type": "stream",
     "text": [
      "Tile\n",
      "1\n",
      "0.0\n",
      "(12444, 24888)\n",
      "(1, 12444, 24888)\n",
      "12444\n",
      "1.0\n",
      "24888\n",
      "309706272\n"
     ]
    },
    {
     "ename": "AttributeError",
     "evalue": "'CubeFile' object has no attribute 'coords'",
     "output_type": "error",
     "traceback": [
      "\u001b[1;31m---------------------------------------------------------------------------\u001b[0m",
      "\u001b[1;31mAttributeError\u001b[0m                            Traceback (most recent call last)",
      "\u001b[1;32m<ipython-input-24-18625964a4cc>\u001b[0m in \u001b[0;36m<module>\u001b[1;34m()\u001b[0m\n\u001b[0;32m      8\u001b[0m \u001b[1;32mprint\u001b[0m \u001b[0mcub\u001b[0m\u001b[1;33m.\u001b[0m\u001b[0msamples\u001b[0m\u001b[1;33m\u001b[0m\u001b[0m\n\u001b[0;32m      9\u001b[0m \u001b[1;32mprint\u001b[0m \u001b[0mcub\u001b[0m\u001b[1;33m.\u001b[0m\u001b[0msize\u001b[0m\u001b[1;33m\u001b[0m\u001b[0m\n\u001b[1;32m---> 10\u001b[1;33m \u001b[1;32mprint\u001b[0m \u001b[0mcub\u001b[0m\u001b[1;33m.\u001b[0m\u001b[0mcoords\u001b[0m\u001b[1;33m\u001b[0m\u001b[0m\n\u001b[0m",
      "\u001b[1;31mAttributeError\u001b[0m: 'CubeFile' object has no attribute 'coords'"
     ]
    }
   ],
   "source": [
    "print cub.format\n",
    "print cub.bands\n",
    "print cub.base\n",
    "print cub.image.shape\n",
    "print cub.data.shape\n",
    "print cub.lines\n",
    "print cub.multiplier\n",
    "print cub.samples\n",
    "print cub.size\n"
   ]
  },
  {
   "cell_type": "code",
   "execution_count": 17,
   "metadata": {
    "collapsed": false
   },
   "outputs": [
    {
     "data": {
      "text/plain": [
       "array([[  2.03888916e+03,   2.03888745e+03,   2.03888721e+03, ...,\n",
       "          1.96719922e+03,   1.96719397e+03,   1.96719031e+03],\n",
       "       [  2.01666833e+03,   2.01665979e+03,   2.01665283e+03, ...,\n",
       "          1.94503186e+03,   1.94501990e+03,   1.94500952e+03],\n",
       "       [  2.00866052e+03,   2.00864551e+03,   2.00863245e+03, ...,\n",
       "          1.93710205e+03,   1.93708362e+03,   1.93706689e+03],\n",
       "       ..., \n",
       "       [ -3.40282266e+38,  -3.40282266e+38,  -3.40282266e+38, ...,\n",
       "         -3.40282266e+38,  -3.40282266e+38,  -3.40282266e+38],\n",
       "       [ -3.40282266e+38,  -3.40282266e+38,  -3.40282266e+38, ...,\n",
       "         -3.40282266e+38,  -3.40282266e+38,  -3.40282266e+38],\n",
       "       [ -3.40282266e+38,  -3.40282266e+38,  -3.40282266e+38, ...,\n",
       "         -3.40282266e+38,  -3.40282266e+38,  -3.40282266e+38]], dtype=float32)"
      ]
     },
     "execution_count": 17,
     "metadata": {},
     "output_type": "execute_result"
    }
   ],
   "source": []
  },
  {
   "cell_type": "code",
   "execution_count": null,
   "metadata": {
    "collapsed": true
   },
   "outputs": [],
   "source": []
  }
 ],
 "metadata": {
  "kernelspec": {
   "display_name": "Python 2",
   "language": "python",
   "name": "python2"
  },
  "language_info": {
   "codemirror_mode": {
    "name": "ipython",
    "version": 2
   },
   "file_extension": ".py",
   "mimetype": "text/x-python",
   "name": "python",
   "nbconvert_exporter": "python",
   "pygments_lexer": "ipython2",
   "version": "2.7.12"
  }
 },
 "nbformat": 4,
 "nbformat_minor": 0
}

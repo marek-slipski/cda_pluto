{
 "cells": [
  {
   "cell_type": "code",
   "execution_count": 3,
   "metadata": {
    "collapsed": false
   },
   "outputs": [],
   "source": [
    "import pandas as pd\n",
    "import numpy as np\n",
    "import glob\n",
    "\n",
    "import matplotlib.pyplot as plt\n",
    "%matplotlib inline"
   ]
  },
  {
   "cell_type": "markdown",
   "metadata": {},
   "source": [
    "First, need to steal the hack that loops through all the shapes I save..."
   ]
  },
  {
   "cell_type": "code",
   "execution_count": 8,
   "metadata": {
    "collapsed": false
   },
   "outputs": [
    {
     "name": "stdout",
     "output_type": "stream",
     "text": [
      "['../slices/c50_output/4400_4600_10100_10300_c50', '../slices/c50_output/4400_4600_8900_9100_c50', '../slices/c50_output/4400_4600_9100_9300_c50', '../slices/c50_output/4400_4600_9300_9500_c50', '../slices/c50_output/4400_4600_9500_9700_c50']\n"
     ]
    }
   ],
   "source": [
    "slice_dirs =  sorted(glob.glob('../slices/c50_output/*'))\n",
    "print slice_dirs[0:5]"
   ]
  },
  {
   "cell_type": "code",
   "execution_count": 9,
   "metadata": {
    "collapsed": true
   },
   "outputs": [],
   "source": [
    "def centroid(z):\n",
    "    return np.sum(z)/len(z)"
   ]
  },
  {
   "cell_type": "code",
   "execution_count": null,
   "metadata": {
    "collapsed": true
   },
   "outputs": [],
   "source": [
    "#def get_all_mean_radii(folder):\n",
    "    #slice_dirs = sorted(glob.glob('folder/*'))\n",
    "    "
   ]
  },
  {
   "cell_type": "code",
   "execution_count": 94,
   "metadata": {
    "collapsed": false
   },
   "outputs": [],
   "source": [
    "basepix = [4400,6000,8900,10300]\n",
    "diams_50 = []\n",
    "for sld in slice_dirs:\n",
    "    fname = sld.split('/')[-1]\n",
    "    rp1,rp2,cp1,cp2,blur = fname.split('_')\n",
    "    #print rp1,rp2,cp1,cp2\n",
    "    shapes = glob.glob(sld+'/shapes/*_xypoints.npy')\n",
    "    for shfile in shapes:\n",
    "        x,y = np.load(shfile)\n",
    "        adjx = x+int(cp1)-basepix[2]\n",
    "        adjy = y+int(rp1)-basepix[0]\n",
    "        centx, centy = centroid(adjx),centroid(adjy)\n",
    "\n",
    "        dists = np.sqrt((adjx-centx)**2 + (adjy-centy)**2)\n",
    "        diams_50.append(np.mean(dists)*2)\n",
    "        \n",
    "diams_50 = np.array(diams_50)*.3 #convert pixels to km"
   ]
  },
  {
   "cell_type": "code",
   "execution_count": 95,
   "metadata": {
    "collapsed": false
   },
   "outputs": [],
   "source": [
    "diams_50_S = pd.Series(diams_50)"
   ]
  },
  {
   "cell_type": "code",
   "execution_count": 103,
   "metadata": {
    "collapsed": false
   },
   "outputs": [
    {
     "data": {
      "text/plain": [
       "<matplotlib.axes._subplots.AxesSubplot at 0x7fdb150cfa50>"
      ]
     },
     "execution_count": 103,
     "metadata": {},
     "output_type": "execute_result"
    },
    {
     "data": {
      "image/png": "[encoded data removed]",
      "text/plain": [
       "<matplotlib.figure.Figure at 0x7fdb15168250>"
      ]
     },
     "metadata": {},
     "output_type": "display_data"
    }
   ],
   "source": [
    "bins = np.arange(0,50,1)\n",
    "diams_50_c = pd.cut(diams_50_S,bins)\n",
    "diams_50_S.hist()"
   ]
  },
  {
   "cell_type": "code",
   "execution_count": 97,
   "metadata": {
    "collapsed": true
   },
   "outputs": [],
   "source": [
    "basepix = [4400,6000,8900,10300]\n",
    "diams_20 = []\n",
    "for sld in sorted(glob.glob('../slices/c20_output/*')):\n",
    "    fname = sld.split('/')[-1]\n",
    "    rp1,rp2,cp1,cp2,blur = fname.split('_')\n",
    "    #print rp1,rp2,cp1,cp2\n",
    "    shapes = glob.glob(sld+'/shapes/*_xypoints.npy')\n",
    "    for shfile in shapes:\n",
    "        x,y = np.load(shfile)\n",
    "        adjx = x+int(cp1)-basepix[2]\n",
    "        adjy = y+int(rp1)-basepix[0]\n",
    "        centx, centy = centroid(adjx),centroid(adjy)\n",
    "\n",
    "        dists = np.sqrt((adjx-centx)**2 + (adjy-centy)**2)\n",
    "        diams_20.append(np.mean(dists)*2)\n",
    "        \n",
    "diams_20 = np.array(diams_20)*.3 #convert pixels to km"
   ]
  },
  {
   "cell_type": "code",
   "execution_count": 98,
   "metadata": {
    "collapsed": false
   },
   "outputs": [
    {
     "data": {
      "text/plain": [
       "<matplotlib.axes._subplots.AxesSubplot at 0x7fdb15275e50>"
      ]
     },
     "execution_count": 98,
     "metadata": {},
     "output_type": "execute_result"
    },
    {
     "data": {
      "image/png": "[encoded data removed]",
      "text/plain": [
       "<matplotlib.figure.Figure at 0x7fdb14ff1690>"
      ]
     },
     "metadata": {},
     "output_type": "display_data"
    }
   ],
   "source": [
    "diams_20_S = pd.Series(diams_20)\n",
    "diams_20_S.hist()"
   ]
  },
  {
   "cell_type": "code",
   "execution_count": 99,
   "metadata": {
    "collapsed": false
   },
   "outputs": [
    {
     "data": {
      "text/plain": [
       "<matplotlib.axes._subplots.AxesSubplot at 0x7fdb1514e2d0>"
      ]
     },
     "execution_count": 99,
     "metadata": {},
     "output_type": "execute_result"
    },
    {
     "data": {
      "image/png": "[encoded data removed]",
      "text/plain": [
       "<matplotlib.figure.Figure at 0x7fdb15166410>"
      ]
     },
     "metadata": {},
     "output_type": "display_data"
    }
   ],
   "source": [
    "diams_20_S = pd.Series(diams_20)\n",
    "diams_20_S.hist()\n",
    "diams_50_S.hist()"
   ]
  },
  {
   "cell_type": "code",
   "execution_count": 100,
   "metadata": {
    "collapsed": true
   },
   "outputs": [],
   "source": [
    "basepix = [4400,6000,8900,10300]\n",
    "diams_10 = []\n",
    "for sld in sorted(glob.glob('../slices/c10_output/*')):\n",
    "    fname = sld.split('/')[-1]\n",
    "    rp1,rp2,cp1,cp2,blur = fname.split('_')\n",
    "    #print rp1,rp2,cp1,cp2\n",
    "    shapes = glob.glob(sld+'/shapes/*_xypoints.npy')\n",
    "    for shfile in shapes:\n",
    "        x,y = np.load(shfile)\n",
    "        adjx = x+int(cp1)-basepix[2]\n",
    "        adjy = y+int(rp1)-basepix[0]\n",
    "        centx, centy = centroid(adjx),centroid(adjy)\n",
    "\n",
    "        dists = np.sqrt((adjx-centx)**2 + (adjy-centy)**2)\n",
    "        diams_10.append(np.mean(dists)*2)\n",
    "        \n",
    "diams_10 = np.array(diams_10)*.3 #convert pixels to km"
   ]
  },
  {
   "cell_type": "code",
   "execution_count": 101,
   "metadata": {
    "collapsed": false
   },
   "outputs": [
    {
     "data": {
      "text/plain": [
       "<matplotlib.axes._subplots.AxesSubplot at 0x7fdb1519e9d0>"
      ]
     },
     "execution_count": 101,
     "metadata": {},
     "output_type": "execute_result"
    },
    {
     "data": {
      "image/png": "[encoded data removed]",
      "text/plain": [
       "<matplotlib.figure.Figure at 0x7fdb14e62fd0>"
      ]
     },
     "metadata": {},
     "output_type": "display_data"
    }
   ],
   "source": [
    "diams_10_S = pd.Series(diams_10)\n",
    "diams_10_S.hist()"
   ]
  },
  {
   "cell_type": "code",
   "execution_count": 142,
   "metadata": {
    "collapsed": false
   },
   "outputs": [
    {
     "data": {
      "text/plain": [
       "<matplotlib.axes._subplots.AxesSubplot at 0x7fdb14768c90>"
      ]
     },
     "execution_count": 142,
     "metadata": {},
     "output_type": "execute_result"
    },
    {
     "data": {
      "image/png": "[encoded data removed]",
      "text/plain": [
       "<matplotlib.figure.Figure at 0x7fdb1467d410>"
      ]
     },
     "metadata": {},
     "output_type": "display_data"
    }
   ],
   "source": [
    "diams_10_S = pd.Series(diams_10)\n",
    "diams_10_S.hist()\n",
    "diams_20_S.hist()\n",
    "diams_50_S.hist()"
   ]
  },
  {
   "cell_type": "code",
   "execution_count": 104,
   "metadata": {
    "collapsed": false
   },
   "outputs": [],
   "source": [
    "diams_S = pd.concat([diams_10_S,diams_20_S,diams_50_S])"
   ]
  },
  {
   "cell_type": "code",
   "execution_count": 105,
   "metadata": {
    "collapsed": false
   },
   "outputs": [],
   "source": [
    "diams_Sc = pd.cut(diams_S,bins)\n",
    "count_Sc = diams_S.groupby(diams_Sc).count()\n",
    "medSc = diams_S.groupby(diams_Sc).median()"
   ]
  },
  {
   "cell_type": "code",
   "execution_count": 161,
   "metadata": {
    "collapsed": false
   },
   "outputs": [],
   "source": [
    "medSc = diams_S.groupby(diams_Sc).median()"
   ]
  },
  {
   "cell_type": "code",
   "execution_count": 162,
   "metadata": {
    "collapsed": false
   },
   "outputs": [],
   "source": [
    "newdf = pd.concat([count_Sc,medSc],axis=1,keys=['count','median'])"
   ]
  },
  {
   "cell_type": "code",
   "execution_count": 213,
   "metadata": {
    "collapsed": false
   },
   "outputs": [
    {
     "data": {
      "image/png": "[encoded data removed]",
      "text/plain": [
       "<matplotlib.figure.Figure at 0x7fdb0cc539d0>"
      ]
     },
     "metadata": {},
     "output_type": "display_data"
    }
   ],
   "source": [
    "plt.figure()\n",
    "plt.scatter(newdf['median']/.3*newsc,newdf['count']/(area))\n",
    "#plt.plot([1,50],[1.e-3,1.e-3])\n",
    "plt.yscale('log')\n",
    "plt.ylim(1.e-6,1.e-3)\n",
    "plt.xlim(1.,5.e+1)\n",
    "plt.xscale('log')\n",
    "plt.show()"
   ]
  },
  {
   "cell_type": "code",
   "execution_count": 203,
   "metadata": {
    "collapsed": false
   },
   "outputs": [
    {
     "data": {
      "text/plain": [
       "184801.21297530248"
      ]
     },
     "execution_count": 203,
     "metadata": {},
     "output_type": "execute_result"
    }
   ],
   "source": [
    "pixelsq = 1400*newsc*1600*newsc\n",
    "area = pixelsq\n",
    "area"
   ]
  },
  {
   "cell_type": "code",
   "execution_count": 202,
   "metadata": {
    "collapsed": false
   },
   "outputs": [
    {
     "name": "stdout",
     "output_type": "stream",
     "text": [
      "0.292831886853 16.7780312235\n",
      "1137.71436595\n",
      "0.287229074968\n"
     ]
    }
   ],
   "source": [
    "Req = 1188300.0/1000.\n",
    "lat = (1-(np.mean([4400])/(12444/2.)))\n",
    "print lat,lat*180/np.pi\n",
    "a = Req* np.cos(lat)\n",
    "print a\n",
    "newsc = a/Req/1000.*300\n",
    "print newsc\n"
   ]
  },
  {
   "cell_type": "code",
   "execution_count": 151,
   "metadata": {
    "collapsed": false
   },
   "outputs": [
    {
     "data": {
      "text/plain": [
       "3.0"
      ]
     },
     "execution_count": 151,
     "metadata": {},
     "output_type": "execute_result"
    }
   ],
   "source": [
    "10*0.3"
   ]
  },
  {
   "cell_type": "code",
   "execution_count": 152,
   "metadata": {
    "collapsed": false
   },
   "outputs": [
    {
     "data": {
      "text/plain": [
       "(473.53934780439585, 414.34692932884639)"
      ]
     },
     "execution_count": 152,
     "metadata": {},
     "output_type": "execute_result"
    }
   ],
   "source": [
    "newsc*1600, newsc*1400"
   ]
  },
  {
   "cell_type": "code",
   "execution_count": 154,
   "metadata": {
    "collapsed": false
   },
   "outputs": [
    {
     "data": {
      "text/plain": [
       "479.99415625339134"
      ]
     },
     "execution_count": 154,
     "metadata": {},
     "output_type": "execute_result"
    }
   ],
   "source": [
    "Req*2*np.pi/24888*1600"
   ]
  },
  {
   "cell_type": "code",
   "execution_count": 156,
   "metadata": {
    "collapsed": false
   },
   "outputs": [
    {
     "data": {
      "text/plain": [
       "64.28571428571429"
      ]
     },
     "execution_count": 156,
     "metadata": {},
     "output_type": "execute_result"
    }
   ],
   "source": [
    "450/7."
   ]
  },
  {
   "cell_type": "code",
   "execution_count": 157,
   "metadata": {
    "collapsed": false
   },
   "outputs": [
    {
     "data": {
      "text/plain": [
       "16.25"
      ]
     },
     "execution_count": 157,
     "metadata": {},
     "output_type": "execute_result"
    }
   ],
   "source": [
    "65/4."
   ]
  },
  {
   "cell_type": "code",
   "execution_count": 158,
   "metadata": {
    "collapsed": true
   },
   "outputs": [],
   "source": [
    "import scipy.stats as sps"
   ]
  },
  {
   "cell_type": "code",
   "execution_count": 244,
   "metadata": {
    "collapsed": true
   },
   "outputs": [],
   "source": [
    "fitdf = newdf[(newdf['median']>7.)&(newdf['median']<30)]"
   ]
  },
  {
   "cell_type": "code",
   "execution_count": 245,
   "metadata": {
    "collapsed": false
   },
   "outputs": [],
   "source": [
    "fit = sps.linregress(np.log(fitdf['median']),np.log(fitdf['count']))"
   ]
  },
  {
   "cell_type": "code",
   "execution_count": 246,
   "metadata": {
    "collapsed": false
   },
   "outputs": [
    {
     "data": {
      "text/plain": [
       "LinregressResult(slope=-3.6987473420425534, intercept=12.800503324322319, rvalue=-0.96272218943209553, pvalue=3.0385693429263861e-12, stderr=0.23841385964091288)"
      ]
     },
     "execution_count": 246,
     "metadata": {},
     "output_type": "execute_result"
    }
   ],
   "source": [
    "fit"
   ]
  },
  {
   "cell_type": "code",
   "execution_count": 174,
   "metadata": {
    "collapsed": false
   },
   "outputs": [],
   "source": [
    "newdf_sort = newdf.sort_values('median',ascending=False)"
   ]
  },
  {
   "cell_type": "code",
   "execution_count": 185,
   "metadata": {
    "collapsed": false
   },
   "outputs": [
    {
     "data": {
      "text/plain": [
       "(25, 26]    False\n",
       "(29, 30]    False\n",
       "(40, 41]    False\n",
       "(41, 42]    False\n",
       "(42, 43]    False\n",
       "(43, 44]    False\n",
       "(44, 45]    False\n",
       "(45, 46]    False\n",
       "(47, 48]    False\n",
       "(48, 49]    False\n",
       "Name: cumfreq, dtype: bool"
      ]
     },
     "execution_count": 185,
     "metadata": {},
     "output_type": "execute_result"
    }
   ],
   "source": [
    "newdf['cumfreq'] = newdf_sort['count'].cumsum()\n",
    "newdf['cumfreq'][newdf['median'].isnull()] == 0."
   ]
  },
  {
   "cell_type": "code",
   "execution_count": 191,
   "metadata": {
    "collapsed": false
   },
   "outputs": [],
   "source": [
    "newdf = newdf[~newdf['median'].isnull()]"
   ]
  },
  {
   "cell_type": "code",
   "execution_count": 210,
   "metadata": {
    "collapsed": false
   },
   "outputs": [],
   "source": [
    "newdf_2 = newdf[(newdf['median']>6.)].sort_values('median',ascending=False)\n",
    "newdf_2['cumfreq'] = newdf_2['count'].cumsum()"
   ]
  },
  {
   "cell_type": "code",
   "execution_count": 247,
   "metadata": {
    "collapsed": false
   },
   "outputs": [
    {
     "data": {
      "image/png": "[encoded data removed]",
      "text/plain": [
       "<matplotlib.figure.Figure at 0x7fdb14bcfd50>"
      ]
     },
     "metadata": {},
     "output_type": "display_data"
    }
   ],
   "source": [
    "plt.figure()\n",
    "plt.scatter(newdf_2['median']/.3*newsc,newdf_2['count']/(area))\n",
    "plt.plot(np.arange(6,50),np.exp(np.log(np.arange(6,50))*fit[0]+fit[1])/area)\n",
    "plt.yscale('log')\n",
    "plt.ylim(1.e-6,1.e-2)\n",
    "plt.xlim(1.,5.e+1)\n",
    "plt.xscale('log')\n",
    "plt.show()"
   ]
  },
  {
   "cell_type": "code",
   "execution_count": 242,
   "metadata": {
    "collapsed": false
   },
   "outputs": [
    {
     "name": "stdout",
     "output_type": "stream",
     "text": [
      "[ 239.8517626   154.31932676  105.32122517   75.19307321   55.62550584\n",
      "   42.35035218   33.01800458   26.26048587   21.24360556   17.43849071\n",
      "   14.49852466   12.18993822   10.35108189    8.86769195    7.65740967\n",
      "    6.6598301     5.82995141    5.13376986    4.54526002    4.04426824\n",
      "    3.61501968    3.24504456    2.92439571    2.64507118    2.40058343\n",
      "    2.18563429    1.99586757    1.82767872    1.67806745    1.54452239\n",
      "    1.4249304     1.3175046     1.22072688    1.13330182    1.05411936\n",
      "    0.9822245     0.91679252    0.85710866    0.80255138    0.75257836\n",
      "    0.70671499    0.66454468    0.6257007     0.58985935]\n"
     ]
    }
   ],
   "source": [
    "print np.exp(np.log(np.arange(6,50))*fit[0]+fit[1])"
   ]
  },
  {
   "cell_type": "code",
   "execution_count": 265,
   "metadata": {
    "collapsed": false
   },
   "outputs": [],
   "source": [
    "ft = pd.concat([diams_50_S,diams_20_S])\n",
    "ftc = pd.cut(ft,bins)\n",
    "ft1 = ft.groupby(ftc).count()\n",
    "ft2 = ft.groupby(ftc).mean()\n",
    "ftdf = pd.concat([ft1,ft2],axis=1,keys=['count','median'])\n",
    "ftdf['cumfreq'] = ftdf.sort_values('median',ascending=False)['count'].cumsum()"
   ]
  },
  {
   "cell_type": "code",
   "execution_count": 264,
   "metadata": {
    "collapsed": false
   },
   "outputs": [
    {
     "data": {
      "image/png": "[encoded data removed]",
      "text/plain": [
       "<matplotlib.figure.Figure at 0x7fdb14e2f5d0>"
      ]
     },
     "metadata": {},
     "output_type": "display_data"
    }
   ],
   "source": [
    "plt.figure()\n",
    "plt.scatter(ftdf['median']/.3*newsc,ftdf['count']/area)\n",
    "plt.yscale('log')\n",
    "plt.xscale('log')\n",
    "plt.ylim(1.e-6,1.e-4)\n",
    "plt.show()"
   ]
  },
  {
   "cell_type": "code",
   "execution_count": 270,
   "metadata": {
    "collapsed": false
   },
   "outputs": [
    {
     "data": {
      "image/png": "[encoded data removed]",
      "text/plain": [
       "<matplotlib.figure.Figure at 0x7fdb0d38f290>"
      ]
     },
     "metadata": {},
     "output_type": "display_data"
    }
   ],
   "source": [
    "plt.figure()\n",
    "plt.scatter(ftdf['median']/.3*newsc,ftdf['cumfreq']/area,c='r')\n",
    "plt.yscale('log')\n",
    "plt.xscale('log')\n",
    "plt.ylim(1.e-6,1.e-2)\n",
    "plt.show()"
   ]
  },
  {
   "cell_type": "code",
   "execution_count": 273,
   "metadata": {
    "collapsed": false
   },
   "outputs": [
    {
     "data": {
      "image/png": "[encoded data removed]",
      "text/plain": [
       "<matplotlib.figure.Figure at 0x7fdb0cb71690>"
      ]
     },
     "metadata": {},
     "output_type": "display_data"
    }
   ],
   "source": [
    "plt.figure()\n",
    "plt.scatter(newdf['median']/.3*newsc,newdf['cumfreq']/(area)/newdf['median']**-3)\n",
    "#plt.plot([1,50],[1.e-3,1.e-3])\n",
    "plt.yscale('log')\n",
    "plt.ylim(1.e-3,1.e2)\n",
    "plt.xlim(1.,5.e+1)\n",
    "plt.xscale('log')\n",
    "plt.show()"
   ]
  },
  {
   "cell_type": "code",
   "execution_count": 274,
   "metadata": {
    "collapsed": false
   },
   "outputs": [
    {
     "data": {
      "text/plain": [
       "197125"
      ]
     },
     "execution_count": 274,
     "metadata": {},
     "output_type": "execute_result"
    }
   ],
   "source": [
    "415*475"
   ]
  },
  {
   "cell_type": "code",
   "execution_count": null,
   "metadata": {
    "collapsed": true
   },
   "outputs": [],
   "source": []
  }
 ],
 "metadata": {
  "kernelspec": {
   "display_name": "Python 2",
   "language": "python",
   "name": "python2"
  },
  "language_info": {
   "codemirror_mode": {
    "name": "ipython",
    "version": 2
   },
   "file_extension": ".py",
   "mimetype": "text/x-python",
   "name": "python",
   "nbconvert_exporter": "python",
   "pygments_lexer": "ipython2",
   "version": "2.7.12"
  }
 },
 "nbformat": 4,
 "nbformat_minor": 0
}
